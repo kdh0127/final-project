{
 "cells": [
  {
   "cell_type": "code",
   "execution_count": 2,
   "id": "d042aebb-51a7-468d-a6b4-77476ecb34ea",
   "metadata": {},
   "outputs": [
    {
     "name": "stdout",
     "output_type": "stream",
     "text": [
      "Camera index 0 is available.\n",
      "Camera index 1 is available.\n",
      "Camera index 2 is available.\n",
      "Camera index 3 is available.\n",
      "Camera index 4 is available.\n",
      "Camera index 5 is available.\n",
      "Camera index 6 is available.\n",
      "Camera index 7 is not available.\n",
      "Camera index 8 is not available.\n",
      "Camera index 9 is not available.\n"
     ]
    }
   ],
   "source": [
    "import cv2\n",
    "\n",
    "for i in range(10):  # 0~4까지 디바이스 인덱스를 확인\n",
    "    cap = cv2.VideoCapture(i)\n",
    "    if cap.isOpened():\n",
    "        print(f\"Camera index {i} is available.\")\n",
    "        cap.release()\n",
    "    else:\n",
    "        print(f\"Camera index {i} is not available.\")\n",
    "\n"
   ]
  },
  {
   "cell_type": "code",
   "execution_count": null,
   "id": "e4e2569d-5e15-408b-a8fb-e08ad40f6719",
   "metadata": {},
   "outputs": [],
   "source": []
  }
 ],
 "metadata": {
  "kernelspec": {
   "display_name": "Python 3 (ipykernel)",
   "language": "python",
   "name": "python3"
  },
  "language_info": {
   "codemirror_mode": {
    "name": "ipython",
    "version": 3
   },
   "file_extension": ".py",
   "mimetype": "text/x-python",
   "name": "python",
   "nbconvert_exporter": "python",
   "pygments_lexer": "ipython3",
   "version": "3.12.4"
  }
 },
 "nbformat": 4,
 "nbformat_minor": 5
}
